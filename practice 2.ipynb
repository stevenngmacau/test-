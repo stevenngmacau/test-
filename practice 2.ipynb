{
 "cells": [
  {
   "cell_type": "code",
   "execution_count": 10,
   "id": "d7aa40e0",
   "metadata": {},
   "outputs": [
    {
     "name": "stdout",
     "output_type": "stream",
     "text": [
      "Requirement already satisfied: yfinance in c:\\users\\steve\\anaconda3\\lib\\site-packages (0.2.41)\n",
      "Requirement already satisfied: platformdirs>=2.0.0 in c:\\users\\steve\\anaconda3\\lib\\site-packages (from yfinance) (4.2.2)\n",
      "Requirement already satisfied: pytz>=2022.5 in c:\\users\\steve\\anaconda3\\lib\\site-packages (from yfinance) (2024.1)\n",
      "Requirement already satisfied: numpy>=1.16.5 in c:\\users\\steve\\anaconda3\\lib\\site-packages (from yfinance) (1.21.5)\n",
      "Requirement already satisfied: frozendict>=2.3.4 in c:\\users\\steve\\anaconda3\\lib\\site-packages (from yfinance) (2.4.4)\n",
      "Requirement already satisfied: requests>=2.31 in c:\\users\\steve\\anaconda3\\lib\\site-packages (from yfinance) (2.32.3)\n",
      "Requirement already satisfied: peewee>=3.16.2 in c:\\users\\steve\\anaconda3\\lib\\site-packages (from yfinance) (3.17.6)\n",
      "Requirement already satisfied: pandas>=1.3.0 in c:\\users\\steve\\anaconda3\\lib\\site-packages (from yfinance) (1.4.2)\n",
      "Requirement already satisfied: html5lib>=1.1 in c:\\users\\steve\\anaconda3\\lib\\site-packages (from yfinance) (1.1)\n",
      "Requirement already satisfied: multitasking>=0.0.7 in c:\\users\\steve\\anaconda3\\lib\\site-packages (from yfinance) (0.0.11)\n",
      "Requirement already satisfied: lxml>=4.9.1 in c:\\users\\steve\\anaconda3\\lib\\site-packages (from yfinance) (5.2.2)\n",
      "Requirement already satisfied: beautifulsoup4>=4.11.1 in c:\\users\\steve\\anaconda3\\lib\\site-packages (from yfinance) (4.11.1)\n",
      "Requirement already satisfied: soupsieve>1.2 in c:\\users\\steve\\anaconda3\\lib\\site-packages (from beautifulsoup4>=4.11.1->yfinance) (2.3.1)\n",
      "Requirement already satisfied: webencodings in c:\\users\\steve\\anaconda3\\lib\\site-packages (from html5lib>=1.1->yfinance) (0.5.1)\n",
      "Requirement already satisfied: six>=1.9 in c:\\users\\steve\\anaconda3\\lib\\site-packages (from html5lib>=1.1->yfinance) (1.16.0)\n",
      "Requirement already satisfied: python-dateutil>=2.8.1 in c:\\users\\steve\\anaconda3\\lib\\site-packages (from pandas>=1.3.0->yfinance) (2.8.2)\n",
      "Requirement already satisfied: charset-normalizer<4,>=2 in c:\\users\\steve\\anaconda3\\lib\\site-packages (from requests>=2.31->yfinance) (2.0.4)\n",
      "Requirement already satisfied: certifi>=2017.4.17 in c:\\users\\steve\\anaconda3\\lib\\site-packages (from requests>=2.31->yfinance) (2021.10.8)\n",
      "Requirement already satisfied: idna<4,>=2.5 in c:\\users\\steve\\anaconda3\\lib\\site-packages (from requests>=2.31->yfinance) (3.3)\n",
      "Requirement already satisfied: urllib3<3,>=1.21.1 in c:\\users\\steve\\anaconda3\\lib\\site-packages (from requests>=2.31->yfinance) (1.26.9)\n"
     ]
    }
   ],
   "source": [
    "!pip install yfinance"
   ]
  },
  {
   "cell_type": "code",
   "execution_count": 11,
   "id": "9a7f5e22",
   "metadata": {},
   "outputs": [
    {
     "name": "stderr",
     "output_type": "stream",
     "text": [
      "[*********************100%%**********************]  1 of 1 completed\n"
     ]
    },
    {
     "name": "stdout",
     "output_type": "stream",
     "text": [
      "        Date      Open      High       Low     Close  Adj Close     Volume\n",
      "0 2010-06-29  1.266667  1.666667  1.169333  1.592667   1.592667  281494500\n",
      "1 2010-06-30  1.719333  2.028000  1.553333  1.588667   1.588667  257806500\n",
      "2 2010-07-01  1.666667  1.728000  1.351333  1.464000   1.464000  123282000\n",
      "3 2010-07-02  1.533333  1.540000  1.247333  1.280000   1.280000   77097000\n",
      "4 2010-07-06  1.333333  1.333333  1.055333  1.074000   1.074000  103003500\n"
     ]
    }
   ],
   "source": [
    "import yfinance as yf\n",
    "\n",
    "# 提取特斯拉的股票數據\n",
    "ticker = 'TSLA'\n",
    "tesla_data = yf.download(ticker)\n",
    "\n",
    "# 重置索引\n",
    "tesla_data.reset_index(inplace=True)\n",
    "\n",
    "# 保存數據到CSV文件\n",
    "tesla_data.to_csv('tesla_data.csv', index=False)\n",
    "\n",
    "# 顯示前五行\n",
    "print(tesla_data.head())\n"
   ]
  },
  {
   "cell_type": "code",
   "execution_count": 29,
   "id": "0366420b",
   "metadata": {},
   "outputs": [
    {
     "name": "stdout",
     "output_type": "stream",
     "text": [
      "Requirement already satisfied: requests in c:\\users\\steve\\anaconda3\\lib\\site-packages (2.32.3)\n",
      "Requirement already satisfied: beautifulsoup4 in c:\\users\\steve\\anaconda3\\lib\\site-packages (4.11.1)\n",
      "Requirement already satisfied: pandas in c:\\users\\steve\\anaconda3\\lib\\site-packages (1.4.2)\n",
      "Requirement already satisfied: idna<4,>=2.5 in c:\\users\\steve\\anaconda3\\lib\\site-packages (from requests) (3.3)\n",
      "Requirement already satisfied: urllib3<3,>=1.21.1 in c:\\users\\steve\\anaconda3\\lib\\site-packages (from requests) (1.26.9)\n",
      "Requirement already satisfied: charset-normalizer<4,>=2 in c:\\users\\steve\\anaconda3\\lib\\site-packages (from requests) (2.0.4)\n",
      "Requirement already satisfied: certifi>=2017.4.17 in c:\\users\\steve\\anaconda3\\lib\\site-packages (from requests) (2024.7.4)\n",
      "Requirement already satisfied: soupsieve>1.2 in c:\\users\\steve\\anaconda3\\lib\\site-packages (from beautifulsoup4) (2.3.1)\n",
      "Requirement already satisfied: python-dateutil>=2.8.1 in c:\\users\\steve\\anaconda3\\lib\\site-packages (from pandas) (2.8.2)\n",
      "Requirement already satisfied: numpy>=1.18.5 in c:\\users\\steve\\anaconda3\\lib\\site-packages (from pandas) (1.21.5)\n",
      "Requirement already satisfied: pytz>=2020.1 in c:\\users\\steve\\anaconda3\\lib\\site-packages (from pandas) (2024.1)\n",
      "Requirement already satisfied: six>=1.5 in c:\\users\\steve\\anaconda3\\lib\\site-packages (from python-dateutil>=2.8.1->pandas) (1.16.0)\n"
     ]
    }
   ],
   "source": [
    "!pip install requests beautifulsoup4 pandas\n"
   ]
  },
  {
   "cell_type": "code",
   "execution_count": 35,
   "id": "bc72aad8",
   "metadata": {},
   "outputs": [
    {
     "ename": "Exception",
     "evalue": "Failed to load page https://www.macrotrends.net/stocks/charts/TSLA/tesla/revenue",
     "output_type": "error",
     "traceback": [
      "\u001b[1;31m---------------------------------------------------------------------------\u001b[0m",
      "\u001b[1;31mException\u001b[0m                                 Traceback (most recent call last)",
      "Input \u001b[1;32mIn [35]\u001b[0m, in \u001b[0;36m<cell line: 10>\u001b[1;34m()\u001b[0m\n\u001b[0;32m      9\u001b[0m response \u001b[38;5;241m=\u001b[39m requests\u001b[38;5;241m.\u001b[39mget(url)\n\u001b[0;32m     10\u001b[0m \u001b[38;5;28;01mif\u001b[39;00m response\u001b[38;5;241m.\u001b[39mstatus_code \u001b[38;5;241m!=\u001b[39m \u001b[38;5;241m200\u001b[39m:\n\u001b[1;32m---> 11\u001b[0m     \u001b[38;5;28;01mraise\u001b[39;00m \u001b[38;5;167;01mException\u001b[39;00m(\u001b[38;5;124mf\u001b[39m\u001b[38;5;124m\"\u001b[39m\u001b[38;5;124mFailed to load page \u001b[39m\u001b[38;5;132;01m{\u001b[39;00murl\u001b[38;5;132;01m}\u001b[39;00m\u001b[38;5;124m\"\u001b[39m)\n\u001b[0;32m     13\u001b[0m \u001b[38;5;66;03m# 使用BeautifulSoup解析HTML內容\u001b[39;00m\n\u001b[0;32m     14\u001b[0m soup \u001b[38;5;241m=\u001b[39m BeautifulSoup(response\u001b[38;5;241m.\u001b[39mcontent, \u001b[38;5;124m'\u001b[39m\u001b[38;5;124mhtml.parser\u001b[39m\u001b[38;5;124m'\u001b[39m)\n",
      "\u001b[1;31mException\u001b[0m: Failed to load page https://www.macrotrends.net/stocks/charts/TSLA/tesla/revenue"
     ]
    }
   ],
   "source": [
    "import requests\n",
    "from bs4 import BeautifulSoup\n",
    "import pandas as pd\n",
    "\n",
    "# 定義要抓取的目標URL\n",
    "url = 'https://www.macrotrends.net/stocks/charts/TSLA/tesla/revenue'\n",
    "\n",
    "# 發送HTTP請求來獲取網頁內容\n",
    "response = requests.get(url)\n",
    "if response.status_code != 200:\n",
    "    raise Exception(f\"Failed to load page {url}\")\n",
    "\n",
    "# 使用BeautifulSoup解析HTML內容\n",
    "soup = BeautifulSoup(response.content, 'html.parser')\n",
    "\n",
    "# 找到收入表格\n",
    "tesla_revenue_table = soup.find_all('table', {'class': 'historical_data_table table'})\n",
    "if not tesla_revenue_table:\n",
    "    raise Exception(\"Failed to find the Tesla Quarterly Revenue table\")\n",
    "tesla_revenue_table = tesla_revenue_table[0]\n",
    "\n",
    "# 解析表格數據\n",
    "rows = tesla_revenue_table.find_all('tr')\n",
    "data = []\n",
    "for row in rows[1:]:  # 跳過表頭\n",
    "    cols = row.find_all('td')\n",
    "    cols = [ele.text.strip() for ele in cols]\n",
    "    data.append(cols)\n",
    "\n",
    "# 創建數據框\n",
    "tesla_revenue = pd.DataFrame(data, columns=['Date', 'Revenue'])\n",
    "tesla_revenue['Revenue'] = tesla_revenue['Revenue'].str.replace(',', '').str.replace('$', '').astype(float)\n",
    "\n",
    "# 顯示數據框的最後五行\n",
    "print(tesla_revenue.tail())\n"
   ]
  },
  {
   "cell_type": "code",
   "execution_count": 36,
   "id": "de83b361",
   "metadata": {},
   "outputs": [
    {
     "name": "stderr",
     "output_type": "stream",
     "text": [
      "[*********************100%%**********************]  1 of 1 completed"
     ]
    },
    {
     "name": "stdout",
     "output_type": "stream",
     "text": [
      "        Date     Open     High      Low    Close  Adj Close    Volume\n",
      "0 2002-02-13  2.40625  2.51500  2.38125  2.51250   1.691667  76216000\n",
      "1 2002-02-14  2.54375  2.54875  2.48125  2.50000   1.683250  11021600\n",
      "2 2002-02-15  2.50000  2.50625  2.46250  2.48750   1.674834   8389600\n",
      "3 2002-02-19  2.47500  2.47500  2.34375  2.38750   1.607504   7410400\n",
      "4 2002-02-20  2.40000  2.46875  2.38125  2.46875   1.662210   6892800\n"
     ]
    },
    {
     "name": "stderr",
     "output_type": "stream",
     "text": [
      "\n"
     ]
    }
   ],
   "source": [
    "import yfinance as yf\n",
    "import pandas as pd\n",
    "\n",
    "# 提取 GameStop (GME) 的股票数据\n",
    "ticker = 'GME'\n",
    "gme_data = yf.download(ticker)\n",
    "\n",
    "# 重置索引\n",
    "gme_data.reset_index(inplace=True)\n",
    "\n",
    "# 保存数据到 CSV 文件\n",
    "gme_data.to_csv('gme_data.csv', index=False)\n",
    "\n",
    "# 显示数据框的前五行\n",
    "print(gme_data.head())\n",
    "\n"
   ]
  },
  {
   "cell_type": "code",
   "execution_count": 37,
   "id": "301dc1d6",
   "metadata": {},
   "outputs": [
    {
     "ename": "Exception",
     "evalue": "Failed to load page https://www.macrotrends.net/stocks/charts/GME/gamestop/revenue",
     "output_type": "error",
     "traceback": [
      "\u001b[1;31m---------------------------------------------------------------------------\u001b[0m",
      "\u001b[1;31mException\u001b[0m                                 Traceback (most recent call last)",
      "Input \u001b[1;32mIn [37]\u001b[0m, in \u001b[0;36m<cell line: 10>\u001b[1;34m()\u001b[0m\n\u001b[0;32m      9\u001b[0m response \u001b[38;5;241m=\u001b[39m requests\u001b[38;5;241m.\u001b[39mget(url)\n\u001b[0;32m     10\u001b[0m \u001b[38;5;28;01mif\u001b[39;00m response\u001b[38;5;241m.\u001b[39mstatus_code \u001b[38;5;241m!=\u001b[39m \u001b[38;5;241m200\u001b[39m:\n\u001b[1;32m---> 11\u001b[0m     \u001b[38;5;28;01mraise\u001b[39;00m \u001b[38;5;167;01mException\u001b[39;00m(\u001b[38;5;124mf\u001b[39m\u001b[38;5;124m\"\u001b[39m\u001b[38;5;124mFailed to load page \u001b[39m\u001b[38;5;132;01m{\u001b[39;00murl\u001b[38;5;132;01m}\u001b[39;00m\u001b[38;5;124m\"\u001b[39m)\n\u001b[0;32m     13\u001b[0m \u001b[38;5;66;03m# 使用BeautifulSoup解析HTML内容\u001b[39;00m\n\u001b[0;32m     14\u001b[0m soup \u001b[38;5;241m=\u001b[39m BeautifulSoup(response\u001b[38;5;241m.\u001b[39mcontent, \u001b[38;5;124m'\u001b[39m\u001b[38;5;124mhtml.parser\u001b[39m\u001b[38;5;124m'\u001b[39m)\n",
      "\u001b[1;31mException\u001b[0m: Failed to load page https://www.macrotrends.net/stocks/charts/GME/gamestop/revenue"
     ]
    }
   ],
   "source": [
    "import requests\n",
    "from bs4 import BeautifulSoup\n",
    "import pandas as pd\n",
    "\n",
    "# 定义要抓取的目标URL\n",
    "url = 'https://www.macrotrends.net/stocks/charts/GME/gamestop/revenue'\n",
    "\n",
    "# 发送HTTP请求来获取网页内容\n",
    "response = requests.get(url)\n",
    "if response.status_code != 200:\n",
    "    raise Exception(f\"Failed to load page {url}\")\n",
    "\n",
    "# 使用BeautifulSoup解析HTML内容\n",
    "soup = BeautifulSoup(response.content, 'html.parser')\n",
    "\n",
    "# 找到收入表格\n",
    "table = soup.find('table', {'class': 'historical_data_table'})\n",
    "if table is None:\n",
    "    raise Exception(\"Failed to find the revenue table\")\n",
    "\n",
    "# 解析表格数据\n",
    "data = []\n",
    "for row in table.find_all('tr')[1:]:  # 跳过表头\n",
    "    cols = row.find_all('td')\n",
    "    cols = [ele.text.strip() for ele in cols]\n",
    "    data.append(cols)\n",
    "\n",
    "# 创建数据框\n",
    "gme_revenue = pd.DataFrame(data, columns=['Date', 'Revenue'])\n",
    "\n",
    "# 清理数据（去掉非数字字符）\n",
    "gme_revenue['Revenue'] = gme_revenue['Revenue'].str.replace(',', '').str.replace('$', '').astype(float)\n",
    "\n",
    "# 显示数据框的最后五行\n",
    "print(gme_revenue.tail())\n"
   ]
  },
  {
   "cell_type": "code",
   "execution_count": 38,
   "id": "d85a68e6",
   "metadata": {},
   "outputs": [
    {
     "name": "stdout",
     "output_type": "stream",
     "text": [
      "Requirement already satisfied: matplotlib in c:\\users\\steve\\anaconda3\\lib\\site-packages (3.5.1)\n",
      "Requirement already satisfied: fonttools>=4.22.0 in c:\\users\\steve\\anaconda3\\lib\\site-packages (from matplotlib) (4.25.0)\n",
      "Requirement already satisfied: numpy>=1.17 in c:\\users\\steve\\anaconda3\\lib\\site-packages (from matplotlib) (1.21.5)\n",
      "Requirement already satisfied: kiwisolver>=1.0.1 in c:\\users\\steve\\anaconda3\\lib\\site-packages (from matplotlib) (1.3.2)\n",
      "Requirement already satisfied: cycler>=0.10 in c:\\users\\steve\\anaconda3\\lib\\site-packages (from matplotlib) (0.11.0)\n",
      "Requirement already satisfied: python-dateutil>=2.7 in c:\\users\\steve\\anaconda3\\lib\\site-packages (from matplotlib) (2.8.2)\n",
      "Requirement already satisfied: pillow>=6.2.0 in c:\\users\\steve\\anaconda3\\lib\\site-packages (from matplotlib) (9.0.1)\n",
      "Requirement already satisfied: pyparsing>=2.2.1 in c:\\users\\steve\\anaconda3\\lib\\site-packages (from matplotlib) (3.0.4)\n",
      "Note: you may need to restart the kernel to use updated packages.\n",
      "Requirement already satisfied: packaging>=20.0 in c:\\users\\steve\\anaconda3\\lib\\site-packages (from matplotlib) (21.3)\n",
      "Requirement already satisfied: six>=1.5 in c:\\users\\steve\\anaconda3\\lib\\site-packages (from python-dateutil>=2.7->matplotlib) (1.16.0)\n"
     ]
    }
   ],
   "source": [
    "pip install matplotlib\n"
   ]
  },
  {
   "cell_type": "code",
   "execution_count": 39,
   "id": "e734cf84",
   "metadata": {},
   "outputs": [
    {
     "name": "stderr",
     "output_type": "stream",
     "text": [
      "[*********************100%%**********************]  1 of 1 completed\n"
     ]
    },
    {
     "data": {
      "image/png": "[encoded data removed]",
      "text/plain": [
       "<Figure size 864x432 with 1 Axes>"
      ]
     },
     "metadata": {
      "needs_background": "light"
     },
     "output_type": "display_data"
    }
   ],
   "source": [
    "import yfinance as yf\n",
    "import matplotlib.pyplot as plt\n",
    "\n",
    "def make_graph(data, title):\n",
    "    \"\"\"\n",
    "    绘制股票数据图表\n",
    "\n",
    "    参数:\n",
    "    - data: pandas DataFrame，包含股票数据\n",
    "    - title: 字符串，图表标题\n",
    "    \"\"\"\n",
    "    # 确保数据中包含 'Date' 和 'Close' 列\n",
    "    if 'Date' not in data.columns or 'Close' not in data.columns:\n",
    "        raise ValueError(\"数据框中必须包含 'Date' 和 'Close' 列\")\n",
    "    \n",
    "    # 设置日期为 x 轴，收盘价为 y 轴\n",
    "    plt.figure(figsize=(12, 6))\n",
    "    plt.plot(data['Date'], data['Close'], label='Close Price', color='blue')\n",
    "    \n",
    "    # 添加标题和标签\n",
    "    plt.title(title)\n",
    "    plt.xlabel('Date')\n",
    "    plt.ylabel('Price')\n",
    "    \n",
    "    # 显示图例\n",
    "    plt.legend()\n",
    "    \n",
    "    # 显示图表\n",
    "    plt.grid(True)\n",
    "    plt.xticks(rotation=45)\n",
    "    plt.tight_layout()  # 自动调整布局以适应标签\n",
    "    plt.show()\n",
    "\n",
    "# 提取特斯拉的股票数据\n",
    "ticker = 'TSLA'\n",
    "tesla_data = yf.download(ticker)\n",
    "\n",
    "# 重置索引，确保 'Date' 列存在\n",
    "tesla_data.reset_index(inplace=True)\n",
    "\n",
    "# 使用 make_graph 函数绘制图表\n",
    "make_graph(tesla_data, 'Tesla Stock Price')\n"
   ]
  },
  {
   "cell_type": "code",
   "execution_count": 40,
   "id": "c4362fef",
   "metadata": {},
   "outputs": [
    {
     "name": "stdout",
     "output_type": "stream",
     "text": [
      "Requirement already satisfied: yfinance in c:\\users\\steve\\anaconda3\\lib\\site-packages (0.2.41)\n",
      "Requirement already satisfied: matplotlib in c:\\users\\steve\\anaconda3\\lib\\site-packages (3.5.1)\n",
      "Requirement already satisfied: multitasking>=0.0.7 in c:\\users\\steve\\anaconda3\\lib\\site-packages (from yfinance) (0.0.11)\n",
      "Requirement already satisfied: html5lib>=1.1 in c:\\users\\steve\\anaconda3\\lib\\site-packages (from yfinance) (1.1)\n",
      "Requirement already satisfied: peewee>=3.16.2 in c:\\users\\steve\\anaconda3\\lib\\site-packages (from yfinance) (3.17.6)\n",
      "Requirement already satisfied: requests>=2.31 in c:\\users\\steve\\anaconda3\\lib\\site-packages (from yfinance) (2.32.3)\n",
      "Requirement already satisfied: pytz>=2022.5 in c:\\users\\steve\\anaconda3\\lib\\site-packages (from yfinance) (2024.1)\n",
      "Requirement already satisfied: lxml>=4.9.1 in c:\\users\\steve\\anaconda3\\lib\\site-packages (from yfinance) (5.2.2)\n",
      "Requirement already satisfied: beautifulsoup4>=4.11.1 in c:\\users\\steve\\anaconda3\\lib\\site-packages (from yfinance) (4.11.1)\n",
      "Requirement already satisfied: platformdirs>=2.0.0 in c:\\users\\steve\\anaconda3\\lib\\site-packages (from yfinance) (4.2.2)\n",
      "Requirement already satisfied: pandas>=1.3.0 in c:\\users\\steve\\anaconda3\\lib\\site-packages (from yfinance) (1.4.2)\n",
      "Note: you may need to restart the kernel to use updated packages.\n",
      "Requirement already satisfied: numpy>=1.16.5 in c:\\users\\steve\\anaconda3\\lib\\site-packages (from yfinance) (1.21.5)\n",
      "Requirement already satisfied: frozendict>=2.3.4 in c:\\users\\steve\\anaconda3\\lib\\site-packages (from yfinance) (2.4.4)\n",
      "Requirement already satisfied: pyparsing>=2.2.1 in c:\\users\\steve\\anaconda3\\lib\\site-packages (from matplotlib) (3.0.4)\n",
      "Requirement already satisfied: python-dateutil>=2.7 in c:\\users\\steve\\anaconda3\\lib\\site-packages (from matplotlib) (2.8.2)\n",
      "Requirement already satisfied: pillow>=6.2.0 in c:\\users\\steve\\anaconda3\\lib\\site-packages (from matplotlib) (9.0.1)\n",
      "Requirement already satisfied: cycler>=0.10 in c:\\users\\steve\\anaconda3\\lib\\site-packages (from matplotlib) (0.11.0)\n",
      "Requirement already satisfied: packaging>=20.0 in c:\\users\\steve\\anaconda3\\lib\\site-packages (from matplotlib) (21.3)\n",
      "Requirement already satisfied: fonttools>=4.22.0 in c:\\users\\steve\\anaconda3\\lib\\site-packages (from matplotlib) (4.25.0)\n",
      "Requirement already satisfied: kiwisolver>=1.0.1 in c:\\users\\steve\\anaconda3\\lib\\site-packages (from matplotlib) (1.3.2)\n",
      "Requirement already satisfied: soupsieve>1.2 in c:\\users\\steve\\anaconda3\\lib\\site-packages (from beautifulsoup4>=4.11.1->yfinance) (2.3.1)\n",
      "Requirement already satisfied: six>=1.9 in c:\\users\\steve\\anaconda3\\lib\\site-packages (from html5lib>=1.1->yfinance) (1.16.0)\n",
      "Requirement already satisfied: webencodings in c:\\users\\steve\\anaconda3\\lib\\site-packages (from html5lib>=1.1->yfinance) (0.5.1)\n",
      "Requirement already satisfied: charset-normalizer<4,>=2 in c:\\users\\steve\\anaconda3\\lib\\site-packages (from requests>=2.31->yfinance) (2.0.4)\n",
      "Requirement already satisfied: certifi>=2017.4.17 in c:\\users\\steve\\anaconda3\\lib\\site-packages (from requests>=2.31->yfinance) (2024.7.4)\n",
      "Requirement already satisfied: urllib3<3,>=1.21.1 in c:\\users\\steve\\anaconda3\\lib\\site-packages (from requests>=2.31->yfinance) (1.26.9)\n",
      "Requirement already satisfied: idna<4,>=2.5 in c:\\users\\steve\\anaconda3\\lib\\site-packages (from requests>=2.31->yfinance) (3.3)\n"
     ]
    }
   ],
   "source": [
    "pip install yfinance matplotlib\n"
   ]
  },
  {
   "cell_type": "code",
   "execution_count": 41,
   "id": "03a5f259",
   "metadata": {},
   "outputs": [
    {
     "name": "stderr",
     "output_type": "stream",
     "text": [
      "[*********************100%%**********************]  1 of 1 completed\n"
     ]
    },
    {
     "data": {
      "image/png": "[encoded data removed]",
      "text/plain": [
       "<Figure size 864x432 with 1 Axes>"
      ]
     },
     "metadata": {
      "needs_background": "light"
     },
     "output_type": "display_data"
    }
   ],
   "source": [
    "import yfinance as yf\n",
    "import matplotlib.pyplot as plt\n",
    "\n",
    "def make_graph(data, title):\n",
    "    \"\"\"\n",
    "    绘制股票数据图表\n",
    "\n",
    "    参数:\n",
    "    - data: pandas DataFrame，包含股票数据\n",
    "    - title: 字符串，图表标题\n",
    "    \"\"\"\n",
    "    # 确保数据中包含 'Date' 和 'Close' 列\n",
    "    if 'Date' not in data.columns or 'Close' not in data.columns:\n",
    "        raise ValueError(\"数据框中必须包含 'Date' 和 'Close' 列\")\n",
    "    \n",
    "    # 设置日期为 x 轴，收盘价为 y 轴\n",
    "    plt.figure(figsize=(12, 6))\n",
    "    plt.plot(data['Date'], data['Close'], label='Close Price', color='blue')\n",
    "    \n",
    "    # 添加标题和标签\n",
    "    plt.title(title)\n",
    "    plt.xlabel('Date')\n",
    "    plt.ylabel('Price')\n",
    "    \n",
    "    # 显示图例\n",
    "    plt.legend()\n",
    "    \n",
    "    # 显示图表\n",
    "    plt.grid(True)\n",
    "    plt.xticks(rotation=45)\n",
    "    plt.tight_layout()  # 自动调整布局以适应标签\n",
    "    plt.show()\n",
    "\n",
    "# 提取 GameStop (GME) 的股票数据\n",
    "ticker = 'GME'\n",
    "gme_data = yf.download(ticker)\n",
    "\n",
    "# 重置索引，确保 'Date' 列存在\n",
    "gme_data.reset_index(inplace=True)\n",
    "\n",
    "# 使用 make_graph 函数绘制图表\n",
    "make_graph(gme_data, 'GameStop Stock Price')\n"
   ]
  },
  {
   "cell_type": "code",
   "execution_count": null,
   "id": "608f3327",
   "metadata": {},
   "outputs": [],
   "source": []
  }
 ],
 "metadata": {
  "kernelspec": {
   "display_name": "Python 3 (ipykernel)",
   "language": "python",
   "name": "python3"
  },
  "language_info": {
   "codemirror_mode": {
    "name": "ipython",
    "version": 3
   },
   "file_extension": ".py",
   "mimetype": "text/x-python",
   "name": "python",
   "nbconvert_exporter": "python",
   "pygments_lexer": "ipython3",
   "version": "3.9.12"
  }
 },
 "nbformat": 4,
 "nbformat_minor": 5
}
