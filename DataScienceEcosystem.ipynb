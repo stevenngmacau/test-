{
 "cells": [
  {
   "cell_type": "code",
   "execution_count": 20,
   "id": "a4df9225",
   "metadata": {},
   "outputs": [
    {
     "name": "stdout",
     "output_type": "stream",
     "text": [
      " Data Science Tools and Ecosystem\n"
     ]
    }
   ],
   "source": [
    "\n",
    "markdown_title = \" Data Science Tools and Ecosystem\"\n",
    "\n",
    "print(markdown_title)\n"
   ]
  },
  {
   "cell_type": "code",
   "execution_count": 18,
   "id": "fe524bd8",
   "metadata": {},
   "outputs": [
    {
     "name": "stdout",
     "output_type": "stream",
     "text": [
      "In this notebook, Data Science Tools and Ecosystem are summarized.\n"
     ]
    }
   ],
   "source": [
    "\n",
    "text = \"In this notebook, Data Science Tools and Ecosystem are summarized.\"\n",
    "print(text)"
   ]
  },
  {
   "cell_type": "code",
   "execution_count": 2,
   "id": "59782d74",
   "metadata": {},
   "outputs": [
    {
     "name": "stdout",
     "output_type": "stream",
     "text": [
      "Some of the popular languages that Data Scientists use are:\n",
      "1. Python\n",
      "2. R\n",
      "3. SQL\n"
     ]
    }
   ],
   "source": [
    "\n",
    "text = \"Some of the popular languages that Data Scientists use are:\"\n",
    "\n",
    "languages = [\n",
    "    \"Python\",\n",
    "    \"R\",\n",
    "    \"SQL\",\n",
    "]\n",
    "\n",
    "print(text)\n",
    "for i, language in enumerate(languages, 1):\n",
    "    print(f\"{i}. {language}\")\n"
   ]
  },
  {
   "cell_type": "code",
   "execution_count": 3,
   "id": "c5a1eaf8",
   "metadata": {},
   "outputs": [
    {
     "name": "stdout",
     "output_type": "stream",
     "text": [
      "Some of the commonly used libraries used by Data Scientists include:\n",
      "1. NumPy\n",
      "2. Pandas\n",
      "3. Matplotlib\n",
      "4. Scikit-learn\n",
      "5. TensorFlow\n"
     ]
    }
   ],
   "source": [
    "\n",
    "text = \"Some of the commonly used libraries used by Data Scientists include:\"\n",
    "\n",
    "libraries = [\n",
    "    \"NumPy\",\n",
    "    \"Pandas\",\n",
    "    \"Matplotlib\",\n",
    "    \"Scikit-learn\",\n",
    "    \"TensorFlow\"\n",
    "]\n",
    "\n",
    "print(text)\n",
    "for i, library in enumerate(libraries, 1):\n",
    "    print(f\"{i}. {library}\")\n"
   ]
  },
  {
   "cell_type": "code",
   "execution_count": 4,
   "id": "f7fdeed7",
   "metadata": {},
   "outputs": [
    {
     "name": "stdout",
     "output_type": "stream",
     "text": [
      "Data Science Tools\n",
      "Jupyter Notebook\n",
      "RStudio\n",
      "Apache Zeppelin\n"
     ]
    }
   ],
   "source": [
    "\n",
    "title = \"Data Science Tools\"\n",
    "tools = [\n",
    "    \"Jupyter Notebook\",\n",
    "    \"RStudio\",\n",
    "    \"Apache Zeppelin\"\n",
    "]\n",
    "\n",
    "print(title)\n",
    "for tool in tools:\n",
    "    print(tool)\n"
   ]
  },
  {
   "cell_type": "code",
   "execution_count": 5,
   "id": "1887f15d",
   "metadata": {},
   "outputs": [
    {
     "name": "stdout",
     "output_type": "stream",
     "text": [
      "### Below are a few examples of evaluating arithmetic expressions in Python\n"
     ]
    }
   ],
   "source": [
    "\n",
    "h3_title = \"### Below are a few examples of evaluating arithmetic expressions in Python\"\n",
    "\n",
    "print(h3_title)\n"
   ]
  },
  {
   "cell_type": "code",
   "execution_count": 6,
   "id": "5588bc74",
   "metadata": {},
   "outputs": [
    {
     "name": "stdout",
     "output_type": "stream",
     "text": [
      "17\n"
     ]
    }
   ],
   "source": [
    "# This a simple arithmetic expression to multiply then add integers\n",
    "result = (3 * 4) + 5\n",
    "\n",
    "print(result)\n",
    "\n"
   ]
  },
  {
   "cell_type": "code",
   "execution_count": 7,
   "id": "b9a89d85",
   "metadata": {},
   "outputs": [
    {
     "name": "stdout",
     "output_type": "stream",
     "text": [
      "3.3333333333333335\n"
     ]
    }
   ],
   "source": [
    "# This will convert 200 minutes to hours by dividing by 60\n",
    "minutes = 200\n",
    "hours = minutes / 60\n",
    "\n",
    "print(hours)\n"
   ]
  },
  {
   "cell_type": "code",
   "execution_count": 8,
   "id": "5fe460e9",
   "metadata": {
    "scrolled": true
   },
   "outputs": [
    {
     "name": "stdout",
     "output_type": "stream",
     "text": [
      "\n",
      "**Objectives:**\n",
      "\n",
      "- List popular languages for Data Science\n",
      "- Describe common libraries used by Data Scientists\n",
      "- Demonstrate how to evaluate arithmetic expressions in Python\n",
      "- Convert minutes to hours\n",
      "- Introduce development environment tools for Data Science\n",
      "\n"
     ]
    }
   ],
   "source": [
    "markdown_content = \"\"\"\n",
    "**Objectives:**\n",
    "\n",
    "- List popular languages for Data Science\n",
    "- Describe common libraries used by Data Scientists\n",
    "- Demonstrate how to evaluate arithmetic expressions in Python\n",
    "- Convert minutes to hours\n",
    "- Introduce development environment tools for Data Science\n",
    "\"\"\"\n",
    "\n",
    "print(markdown_content)\n"
   ]
  },
  {
   "cell_type": "code",
   "execution_count": 11,
   "id": "6080dd7a",
   "metadata": {},
   "outputs": [
    {
     "name": "stdout",
     "output_type": "stream",
     "text": [
      "\n",
      "## Author\n",
      "\n",
      "Author: Ng Hang Seng\n",
      "\n"
     ]
    }
   ],
   "source": [
    "\n",
    "markdown_content = \"\"\"\n",
    "## Author\n",
    "\n",
    "Author: Ng Hang Seng\n",
    "\"\"\"\n",
    "\n",
    "print(markdown_content)\n"
   ]
  },
  {
   "cell_type": "code",
   "execution_count": null,
   "id": "0bb06dae",
   "metadata": {},
   "outputs": [],
   "source": []
  }
 ],
 "metadata": {
  "kernelspec": {
   "display_name": "Python 3 (ipykernel)",
   "language": "python",
   "name": "python3"
  },
  "language_info": {
   "codemirror_mode": {
    "name": "ipython",
    "version": 3
   },
   "file_extension": ".py",
   "mimetype": "text/x-python",
   "name": "python",
   "nbconvert_exporter": "python",
   "pygments_lexer": "ipython3",
   "version": "3.9.12"
  }
 },
 "nbformat": 4,
 "nbformat_minor": 5
}
