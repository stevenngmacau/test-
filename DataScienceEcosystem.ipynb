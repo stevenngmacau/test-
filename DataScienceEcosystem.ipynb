{
 "cells": [
  {
   "cell_type": "code",
   "execution_count": 22,
   "id": "a4df9225",
   "metadata": {},
   "outputs": [
    {
     "data": {
      "text/markdown": [
       "# Data Science Tools and Ecosystem"
      ],
      "text/plain": [
       "<IPython.core.display.Markdown object>"
      ]
     },
     "metadata": {},
     "output_type": "display_data"
    }
   ],
   "source": [
    "from IPython.display import display, Markdown\n",
    "\n",
    "h1_title = \"# Data Science Tools and Ecosystem\"\n",
    "display(Markdown(h1_title))\n"
   ]
  },
  {
   "cell_type": "code",
   "execution_count": 18,
   "id": "fe524bd8",
   "metadata": {},
   "outputs": [
    {
     "name": "stdout",
     "output_type": "stream",
     "text": [
      "In this notebook, Data Science Tools and Ecosystem are summarized.\n"
     ]
    }
   ],
   "source": [
    "\n",
    "text = \"In this notebook, Data Science Tools and Ecosystem are summarized.\"\n",
    "print(text)"
   ]
  },
  {
   "cell_type": "code",
   "execution_count": 23,
   "id": "59782d74",
   "metadata": {},
   "outputs": [
    {
     "name": "stdout",
     "output_type": "stream",
     "text": [
      "Some of the popular languages that Data Scientists use are:\n",
      "1. Python\n",
      "2. R\n",
      "3. SQL\n",
      "4. Java\n",
      "5. C++\n"
     ]
    }
   ],
   "source": [
    "\n",
    "text = \"Some of the popular languages that Data Scientists use are:\"\n",
    "\n",
    "languages = [\n",
    "    \"Python\",\n",
    "    \"R\",\n",
    "    \"SQL\",\n",
    "    \"Java\",\n",
    "    \"C++\",\n",
    "]\n",
    "\n",
    "print(text)\n",
    "for i, language in enumerate(languages, 1):\n",
    "    print(f\"{i}. {language}\")\n"
   ]
  },
  {
   "cell_type": "code",
   "execution_count": 3,
   "id": "7ff0b7f8",
   "metadata": {},
   "outputs": [
    {
     "name": "stdout",
     "output_type": "stream",
     "text": [
      "Some of the commonly used libraries used by Data Scientists include:\n",
      "1. NumPy\n",
      "2. Pandas\n",
      "3. Matplotlib\n",
      "4. Scikit-learn\n",
      "5. TensorFlow\n"
     ]
    }
   ],
   "source": [
    "\n",
    "text = \"Some of the commonly used libraries used by Data Scientists include:\"\n",
    "\n",
    "libraries = [\n",
    "    \"NumPy\",\n",
    "    \"Pandas\",\n",
    "    \"Matplotlib\",\n",
    "    \"Scikit-learn\",\n",
    "    \"TensorFlow\"\n",
    "]\n",
    "\n",
    "print(text)\n",
    "for i, library in enumerate(libraries, 1):\n",
    "    print(f\"{i}. {library}\")\n"
   ]
  },
  {
   "cell_type": "code",
   "execution_count": 4,
   "id": "7cf29801",
   "metadata": {},
   "outputs": [
    {
     "name": "stdout",
     "output_type": "stream",
     "text": [
      "Data Science Tools\n",
      "Jupyter Notebook\n",
      "RStudio\n",
      "Apache Zeppelin\n"
     ]
    }
   ],
   "source": [
    "\n",
    "title = \"Data Science Tools\"\n",
    "tools = [\n",
    "    \"Jupyter Notebook\",\n",
    "    \"RStudio\",\n",
    "    \"Apache Zeppelin\"\n",
    "]\n",
    "\n",
    "print(title)\n",
    "for tool in tools:\n",
    "    print(tool)\n"
   ]
  },
  {
   "cell_type": "code",
   "execution_count": 24,
   "id": "01e9b4b8",
   "metadata": {},
   "outputs": [
    {
     "data": {
      "text/markdown": [
       "### Below are a few examples of evaluating arithmetic expressions in Python"
      ],
      "text/plain": [
       "<IPython.core.display.Markdown object>"
      ]
     },
     "metadata": {},
     "output_type": "display_data"
    }
   ],
   "source": [
    "\n",
    "from IPython.display import display, Markdown\n",
    "\n",
    "h3_title = \"### Below are a few examples of evaluating arithmetic expressions in Python\"\n",
    "display(Markdown(h3_title))\n"
   ]
  },
  {
   "cell_type": "code",
   "execution_count": 6,
   "id": "5c7b50a2",
   "metadata": {},
   "outputs": [
    {
     "name": "stdout",
     "output_type": "stream",
     "text": [
      "17\n"
     ]
    }
   ],
   "source": [
    "# This a simple arithmetic expression to multiply then add integers\n",
    "result = (3 * 4) + 5\n",
    "\n",
    "print(result)\n",
    "\n"
   ]
  },
  {
   "cell_type": "code",
   "execution_count": 7,
   "id": "6b97236b",
   "metadata": {},
   "outputs": [
    {
     "name": "stdout",
     "output_type": "stream",
     "text": [
      "3.3333333333333335\n"
     ]
    }
   ],
   "source": [
    "# This will convert 200 minutes to hours by dividing by 60\n",
    "minutes = 200\n",
    "hours = minutes / 60\n",
    "\n",
    "print(hours)\n"
   ]
  },
  {
   "cell_type": "code",
   "execution_count": 8,
   "id": "8b280579",
   "metadata": {
    "scrolled": true
   },
   "outputs": [
    {
     "name": "stdout",
     "output_type": "stream",
     "text": [
      "\n",
      "**Objectives:**\n",
      "\n",
      "- List popular languages for Data Science\n",
      "- Describe common libraries used by Data Scientists\n",
      "- Demonstrate how to evaluate arithmetic expressions in Python\n",
      "- Convert minutes to hours\n",
      "- Introduce development environment tools for Data Science\n",
      "\n"
     ]
    }
   ],
   "source": [
    "markdown_content = \"\"\"\n",
    "**Objectives:**\n",
    "\n",
    "- List popular languages for Data Science\n",
    "- Describe common libraries used by Data Scientists\n",
    "- Demonstrate how to evaluate arithmetic expressions in Python\n",
    "- Convert minutes to hours\n",
    "- Introduce development environment tools for Data Science\n",
    "\"\"\"\n",
    "\n",
    "print(markdown_content)\n"
   ]
  },
  {
   "cell_type": "code",
   "execution_count": 26,
   "id": "a3ff6919",
   "metadata": {},
   "outputs": [
    {
     "data": {
      "text/markdown": [
       "\n",
       "## Author\n",
       "\n",
       "Ng Hang Seng\n"
      ],
      "text/plain": [
       "<IPython.core.display.Markdown object>"
      ]
     },
     "metadata": {},
     "output_type": "display_data"
    }
   ],
   "source": [
    "from IPython.display import display, Markdown\n",
    "\n",
    "markdown_content = \"\"\"\n",
    "## Author\n",
    "\n",
    "Ng Hang Seng\n",
    "\"\"\"\n",
    "\n",
    "display(Markdown(markdown_content))\n"
   ]
  },
  {
   "cell_type": "code",
   "execution_count": null,
   "id": "7c66d9a9",
   "metadata": {},
   "outputs": [],
   "source": []
  },
  {
   "cell_type": "code",
   "execution_count": null,
   "id": "d0bb4737",
   "metadata": {},
   "outputs": [],
   "source": []
  }
 ],
 "metadata": {
  "kernelspec": {
   "display_name": "Python 3 (ipykernel)",
   "language": "python",
   "name": "python3"
  },
  "language_info": {
   "codemirror_mode": {
    "name": "ipython",
    "version": 3
   },
   "file_extension": ".py",
   "mimetype": "text/x-python",
   "name": "python",
   "nbconvert_exporter": "python",
   "pygments_lexer": "ipython3",
   "version": "3.9.12"
  }
 },
 "nbformat": 4,
 "nbformat_minor": 5
}
